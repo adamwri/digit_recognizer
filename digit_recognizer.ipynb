{
 "cells": [
  {
   "cell_type": "markdown",
   "metadata": {},
   "source": [
    "# Convolutional Nets on the MSNIT Digit Dataset"
   ]
  },
  {
   "cell_type": "markdown",
   "metadata": {},
   "source": [
    "In this notebook I will build a convolutional neural network to classify handwritten digits from the Kaggle MSNIT dataset. My goal is to create a model that does not overfit the data and has 99%+ accuracy on the test set."
   ]
  },
  {
   "cell_type": "markdown",
   "metadata": {},
   "source": [
    "## Data Pre-Processing"
   ]
  },
  {
   "cell_type": "code",
   "execution_count": 55,
   "metadata": {},
   "outputs": [
    {
     "name": "stdout",
     "output_type": "stream",
     "text": [
      "(42000, 785) (28000, 784)\n"
     ]
    }
   ],
   "source": [
    "# load data\n",
    "\n",
    "import pandas as pd\n",
    "import numpy as np\n",
    "\n",
    "train = pd.read_csv('train.csv')\n",
    "test = pd.read_csv('test.csv')\n",
    "\n",
    "print(train.shape, test.shape)"
   ]
  },
  {
   "cell_type": "code",
   "execution_count": 56,
   "metadata": {},
   "outputs": [
    {
     "data": {
      "text/plain": [
       "0    1\n",
       "1    0\n",
       "2    1\n",
       "3    4\n",
       "4    0\n",
       "Name: label, dtype: int64"
      ]
     },
     "execution_count": 56,
     "metadata": {},
     "output_type": "execute_result"
    }
   ],
   "source": [
    "# seperate labels from pixel data\n",
    "\n",
    "labels = train.loc[:, 'label']\n",
    "labels.head()"
   ]
  },
  {
   "cell_type": "code",
   "execution_count": 57,
   "metadata": {},
   "outputs": [
    {
     "data": {
      "text/plain": [
       "array([0., 1., 0., 0., 0., 0., 0., 0., 0., 0.], dtype=float32)"
      ]
     },
     "execution_count": 57,
     "metadata": {},
     "output_type": "execute_result"
    }
   ],
   "source": [
    "# one-hot encoding target\n",
    "\n",
    "from keras.utils import to_categorical\n",
    "\n",
    "labels = np.array(labels)\n",
    "labels = to_categorical(labels)\n",
    "labels[0]"
   ]
  },
  {
   "cell_type": "code",
   "execution_count": 58,
   "metadata": {},
   "outputs": [
    {
     "data": {
      "text/html": [
       "<div>\n",
       "<style scoped>\n",
       "    .dataframe tbody tr th:only-of-type {\n",
       "        vertical-align: middle;\n",
       "    }\n",
       "\n",
       "    .dataframe tbody tr th {\n",
       "        vertical-align: top;\n",
       "    }\n",
       "\n",
       "    .dataframe thead th {\n",
       "        text-align: right;\n",
       "    }\n",
       "</style>\n",
       "<table border=\"1\" class=\"dataframe\">\n",
       "  <thead>\n",
       "    <tr style=\"text-align: right;\">\n",
       "      <th></th>\n",
       "      <th>pixel0</th>\n",
       "      <th>pixel1</th>\n",
       "      <th>pixel2</th>\n",
       "      <th>pixel3</th>\n",
       "      <th>pixel4</th>\n",
       "      <th>pixel5</th>\n",
       "      <th>pixel6</th>\n",
       "      <th>pixel7</th>\n",
       "      <th>pixel8</th>\n",
       "      <th>pixel9</th>\n",
       "      <th>...</th>\n",
       "      <th>pixel774</th>\n",
       "      <th>pixel775</th>\n",
       "      <th>pixel776</th>\n",
       "      <th>pixel777</th>\n",
       "      <th>pixel778</th>\n",
       "      <th>pixel779</th>\n",
       "      <th>pixel780</th>\n",
       "      <th>pixel781</th>\n",
       "      <th>pixel782</th>\n",
       "      <th>pixel783</th>\n",
       "    </tr>\n",
       "  </thead>\n",
       "  <tbody>\n",
       "    <tr>\n",
       "      <td>0</td>\n",
       "      <td>0</td>\n",
       "      <td>0</td>\n",
       "      <td>0</td>\n",
       "      <td>0</td>\n",
       "      <td>0</td>\n",
       "      <td>0</td>\n",
       "      <td>0</td>\n",
       "      <td>0</td>\n",
       "      <td>0</td>\n",
       "      <td>0</td>\n",
       "      <td>...</td>\n",
       "      <td>0</td>\n",
       "      <td>0</td>\n",
       "      <td>0</td>\n",
       "      <td>0</td>\n",
       "      <td>0</td>\n",
       "      <td>0</td>\n",
       "      <td>0</td>\n",
       "      <td>0</td>\n",
       "      <td>0</td>\n",
       "      <td>0</td>\n",
       "    </tr>\n",
       "    <tr>\n",
       "      <td>1</td>\n",
       "      <td>0</td>\n",
       "      <td>0</td>\n",
       "      <td>0</td>\n",
       "      <td>0</td>\n",
       "      <td>0</td>\n",
       "      <td>0</td>\n",
       "      <td>0</td>\n",
       "      <td>0</td>\n",
       "      <td>0</td>\n",
       "      <td>0</td>\n",
       "      <td>...</td>\n",
       "      <td>0</td>\n",
       "      <td>0</td>\n",
       "      <td>0</td>\n",
       "      <td>0</td>\n",
       "      <td>0</td>\n",
       "      <td>0</td>\n",
       "      <td>0</td>\n",
       "      <td>0</td>\n",
       "      <td>0</td>\n",
       "      <td>0</td>\n",
       "    </tr>\n",
       "    <tr>\n",
       "      <td>2</td>\n",
       "      <td>0</td>\n",
       "      <td>0</td>\n",
       "      <td>0</td>\n",
       "      <td>0</td>\n",
       "      <td>0</td>\n",
       "      <td>0</td>\n",
       "      <td>0</td>\n",
       "      <td>0</td>\n",
       "      <td>0</td>\n",
       "      <td>0</td>\n",
       "      <td>...</td>\n",
       "      <td>0</td>\n",
       "      <td>0</td>\n",
       "      <td>0</td>\n",
       "      <td>0</td>\n",
       "      <td>0</td>\n",
       "      <td>0</td>\n",
       "      <td>0</td>\n",
       "      <td>0</td>\n",
       "      <td>0</td>\n",
       "      <td>0</td>\n",
       "    </tr>\n",
       "    <tr>\n",
       "      <td>3</td>\n",
       "      <td>0</td>\n",
       "      <td>0</td>\n",
       "      <td>0</td>\n",
       "      <td>0</td>\n",
       "      <td>0</td>\n",
       "      <td>0</td>\n",
       "      <td>0</td>\n",
       "      <td>0</td>\n",
       "      <td>0</td>\n",
       "      <td>0</td>\n",
       "      <td>...</td>\n",
       "      <td>0</td>\n",
       "      <td>0</td>\n",
       "      <td>0</td>\n",
       "      <td>0</td>\n",
       "      <td>0</td>\n",
       "      <td>0</td>\n",
       "      <td>0</td>\n",
       "      <td>0</td>\n",
       "      <td>0</td>\n",
       "      <td>0</td>\n",
       "    </tr>\n",
       "    <tr>\n",
       "      <td>4</td>\n",
       "      <td>0</td>\n",
       "      <td>0</td>\n",
       "      <td>0</td>\n",
       "      <td>0</td>\n",
       "      <td>0</td>\n",
       "      <td>0</td>\n",
       "      <td>0</td>\n",
       "      <td>0</td>\n",
       "      <td>0</td>\n",
       "      <td>0</td>\n",
       "      <td>...</td>\n",
       "      <td>0</td>\n",
       "      <td>0</td>\n",
       "      <td>0</td>\n",
       "      <td>0</td>\n",
       "      <td>0</td>\n",
       "      <td>0</td>\n",
       "      <td>0</td>\n",
       "      <td>0</td>\n",
       "      <td>0</td>\n",
       "      <td>0</td>\n",
       "    </tr>\n",
       "  </tbody>\n",
       "</table>\n",
       "<p>5 rows × 784 columns</p>\n",
       "</div>"
      ],
      "text/plain": [
       "   pixel0  pixel1  pixel2  pixel3  pixel4  pixel5  pixel6  pixel7  pixel8  \\\n",
       "0       0       0       0       0       0       0       0       0       0   \n",
       "1       0       0       0       0       0       0       0       0       0   \n",
       "2       0       0       0       0       0       0       0       0       0   \n",
       "3       0       0       0       0       0       0       0       0       0   \n",
       "4       0       0       0       0       0       0       0       0       0   \n",
       "\n",
       "   pixel9  ...  pixel774  pixel775  pixel776  pixel777  pixel778  pixel779  \\\n",
       "0       0  ...         0         0         0         0         0         0   \n",
       "1       0  ...         0         0         0         0         0         0   \n",
       "2       0  ...         0         0         0         0         0         0   \n",
       "3       0  ...         0         0         0         0         0         0   \n",
       "4       0  ...         0         0         0         0         0         0   \n",
       "\n",
       "   pixel780  pixel781  pixel782  pixel783  \n",
       "0         0         0         0         0  \n",
       "1         0         0         0         0  \n",
       "2         0         0         0         0  \n",
       "3         0         0         0         0  \n",
       "4         0         0         0         0  \n",
       "\n",
       "[5 rows x 784 columns]"
      ]
     },
     "execution_count": 58,
     "metadata": {},
     "output_type": "execute_result"
    }
   ],
   "source": [
    "train = train.drop('label', axis=1)\n",
    "train.head()"
   ]
  },
  {
   "cell_type": "code",
   "execution_count": 59,
   "metadata": {},
   "outputs": [
    {
     "data": {
      "text/plain": [
       "(42000, 784)"
      ]
     },
     "execution_count": 59,
     "metadata": {},
     "output_type": "execute_result"
    }
   ],
   "source": [
    "train = np.array(train)\n",
    "train.shape"
   ]
  },
  {
   "cell_type": "code",
   "execution_count": 60,
   "metadata": {},
   "outputs": [
    {
     "data": {
      "text/plain": [
       "(42000, 28, 28, 1)"
      ]
     },
     "execution_count": 60,
     "metadata": {},
     "output_type": "execute_result"
    }
   ],
   "source": [
    "# original data is 784 pixels, need to reshape to 4D tensor to pass to a convnet\n",
    "\n",
    "train = train.reshape(42000, 28, 28, 1)\n",
    "train = train.astype('float32') / 255\n",
    "train.shape"
   ]
  },
  {
   "cell_type": "code",
   "execution_count": 61,
   "metadata": {},
   "outputs": [
    {
     "data": {
      "text/plain": [
       "(28000, 784)"
      ]
     },
     "execution_count": 61,
     "metadata": {},
     "output_type": "execute_result"
    }
   ],
   "source": [
    "test = np.array(test)\n",
    "test.shape"
   ]
  },
  {
   "cell_type": "code",
   "execution_count": 62,
   "metadata": {},
   "outputs": [
    {
     "data": {
      "text/plain": [
       "(28000, 28, 28, 1)"
      ]
     },
     "execution_count": 62,
     "metadata": {},
     "output_type": "execute_result"
    }
   ],
   "source": [
    "test = test.reshape(28000, 28, 28, 1)\n",
    "test = test.astype('float32') / 255\n",
    "test.shape"
   ]
  },
  {
   "cell_type": "markdown",
   "metadata": {},
   "source": [
    "The data is now properly formatted as 4D tensors and ready for modelling."
   ]
  },
  {
   "cell_type": "markdown",
   "metadata": {},
   "source": [
    "## Modelling"
   ]
  },
  {
   "cell_type": "markdown",
   "metadata": {},
   "source": [
    "The goal for an initial model is two fold: a) be statistically significant - i.e. better then a random baseline - on an applicable metric and b) overfit the training data. You want to overfit the training data initially to ensure that you are not leaving information from the data unused. Subsequent iterations on the original model can tune it to reduce overfitting and make it more generalizable.\n",
    "\n",
    "I'll begin with a two layer convnet, flattened out to a 512 unit dense layer and then to the final 10 unit (one for each digit 0-9) dense layer with the softmax activation function commonly used for a multi-label classification problem."
   ]
  },
  {
   "cell_type": "code",
   "execution_count": 9,
   "metadata": {},
   "outputs": [
    {
     "name": "stdout",
     "output_type": "stream",
     "text": [
      "WARNING:tensorflow:From C:\\Users\\Adam\\Miniconda3\\envs\\minimal_ds\\lib\\site-packages\\tensorflow\\python\\ops\\resource_variable_ops.py:435: colocate_with (from tensorflow.python.framework.ops) is deprecated and will be removed in a future version.\n",
      "Instructions for updating:\n",
      "Colocations handled automatically by placer.\n"
     ]
    }
   ],
   "source": [
    "from keras import models\n",
    "from keras import layers\n",
    "\n",
    "model = models.Sequential()\n",
    "model.add(layers.Conv2D(32, (3, 3), activation='relu', input_shape=(28, 28, 1)))\n",
    "model.add(layers.MaxPooling2D(2, 2))\n",
    "model.add(layers.Conv2D(64, (3, 3), activation='relu'))\n",
    "model.add(layers.MaxPooling2D(2, 2))\n",
    "model.add(layers.Flatten())\n",
    "model.add(layers.Dense(512, activation='relu'))\n",
    "model.add(layers.Dense(10, activation='softmax'))"
   ]
  },
  {
   "cell_type": "markdown",
   "metadata": {},
   "source": [
    "The loss function of choice is categorical crossentropy for multi-class classificiaton and the primary metric of concern is accuracy - what percentage of time the model correctly predicts a digit from its image."
   ]
  },
  {
   "cell_type": "code",
   "execution_count": 10,
   "metadata": {},
   "outputs": [],
   "source": [
    "model.compile(optimizer='rmsprop',\n",
    "loss='categorical_crossentropy',\n",
    "metrics=['accuracy'])"
   ]
  },
  {
   "cell_type": "code",
   "execution_count": 11,
   "metadata": {},
   "outputs": [
    {
     "name": "stdout",
     "output_type": "stream",
     "text": [
      "WARNING:tensorflow:From C:\\Users\\Adam\\Miniconda3\\envs\\minimal_ds\\lib\\site-packages\\tensorflow\\python\\ops\\math_ops.py:3066: to_int32 (from tensorflow.python.ops.math_ops) is deprecated and will be removed in a future version.\n",
      "Instructions for updating:\n",
      "Use tf.cast instead.\n",
      "Train on 33600 samples, validate on 8400 samples\n",
      "Epoch 1/20\n",
      "33600/33600 [==============================] - 33s 976us/step - loss: 0.1795 - accuracy: 0.9440 - val_loss: 0.0595 - val_accuracy: 0.9827\n",
      "Epoch 2/20\n",
      "33600/33600 [==============================] - 32s 952us/step - loss: 0.0502 - accuracy: 0.9839 - val_loss: 0.0436 - val_accuracy: 0.9857\n",
      "Epoch 3/20\n",
      "33600/33600 [==============================] - 32s 940us/step - loss: 0.0324 - accuracy: 0.9903 - val_loss: 0.0474 - val_accuracy: 0.9875\n",
      "Epoch 4/20\n",
      "33600/33600 [==============================] - 31s 937us/step - loss: 0.0236 - accuracy: 0.9924 - val_loss: 0.0425 - val_accuracy: 0.9893\n",
      "Epoch 5/20\n",
      "33600/33600 [==============================] - 32s 942us/step - loss: 0.0157 - accuracy: 0.9951 - val_loss: 0.0467 - val_accuracy: 0.9890\n",
      "Epoch 6/20\n",
      "33600/33600 [==============================] - 32s 947us/step - loss: 0.0126 - accuracy: 0.9962 - val_loss: 0.0457 - val_accuracy: 0.9898\n",
      "Epoch 7/20\n",
      "33600/33600 [==============================] - 31s 935us/step - loss: 0.0087 - accuracy: 0.9971 - val_loss: 0.0531 - val_accuracy: 0.9896\n",
      "Epoch 8/20\n",
      "33600/33600 [==============================] - 31s 936us/step - loss: 0.0080 - accuracy: 0.9978 - val_loss: 0.0634 - val_accuracy: 0.9874\n",
      "Epoch 9/20\n",
      "33600/33600 [==============================] - 31s 933us/step - loss: 0.0064 - accuracy: 0.9983 - val_loss: 0.0564 - val_accuracy: 0.9905\n",
      "Epoch 10/20\n",
      "33600/33600 [==============================] - 32s 942us/step - loss: 0.0053 - accuracy: 0.9986 - val_loss: 0.0658 - val_accuracy: 0.9894\n",
      "Epoch 11/20\n",
      "33600/33600 [==============================] - 31s 934us/step - loss: 0.0044 - accuracy: 0.9989 - val_loss: 0.0633 - val_accuracy: 0.9907\n",
      "Epoch 12/20\n",
      "33600/33600 [==============================] - 32s 939us/step - loss: 0.0039 - accuracy: 0.9989 - val_loss: 0.0729 - val_accuracy: 0.9905\n",
      "Epoch 13/20\n",
      "33600/33600 [==============================] - 32s 940us/step - loss: 0.0030 - accuracy: 0.9993 - val_loss: 0.0722 - val_accuracy: 0.9907\n",
      "Epoch 14/20\n",
      "33600/33600 [==============================] - 32s 947us/step - loss: 0.0033 - accuracy: 0.9992 - val_loss: 0.0676 - val_accuracy: 0.9901\n",
      "Epoch 15/20\n",
      "33600/33600 [==============================] - 31s 936us/step - loss: 0.0031 - accuracy: 0.9992 - val_loss: 0.0773 - val_accuracy: 0.9896\n",
      "Epoch 16/20\n",
      "33600/33600 [==============================] - 32s 946us/step - loss: 0.0025 - accuracy: 0.9993 - val_loss: 0.0839 - val_accuracy: 0.9890\n",
      "Epoch 17/20\n",
      "33600/33600 [==============================] - 35s 1ms/step - loss: 0.0021 - accuracy: 0.9996 - val_loss: 0.0715 - val_accuracy: 0.9910\n",
      "Epoch 18/20\n",
      "33600/33600 [==============================] - 33s 978us/step - loss: 0.0019 - accuracy: 0.9995 - val_loss: 0.0753 - val_accuracy: 0.9914\n",
      "Epoch 19/20\n",
      "33600/33600 [==============================] - 33s 977us/step - loss: 0.0020 - accuracy: 0.9997 - val_loss: 0.0891 - val_accuracy: 0.9898\n",
      "Epoch 20/20\n",
      "33600/33600 [==============================] - 35s 1ms/step - loss: 0.0014 - accuracy: 0.9998 - val_loss: 0.0910 - val_accuracy: 0.9900\n"
     ]
    }
   ],
   "source": [
    "history = model.fit(train, labels, batch_size=64, epochs=20, validation_split=0.2)"
   ]
  },
  {
   "cell_type": "code",
   "execution_count": 14,
   "metadata": {},
   "outputs": [
    {
     "data": {
      "image/png": "[encoded data removed]",
      "text/plain": [
       "<Figure size 432x288 with 1 Axes>"
      ]
     },
     "metadata": {
      "needs_background": "light"
     },
     "output_type": "display_data"
    }
   ],
   "source": [
    "import matplotlib.pyplot as plt\n",
    "\n",
    "accuracy = history.history['accuracy']\n",
    "val_accuracy = history.history['val_accuracy']\n",
    "epochs = range(0, 20)\n",
    "\n",
    "plt.plot(epochs, accuracy, 'bo', label='Training accuracy')\n",
    "plt.plot(epochs, val_accuracy, 'b', label='Validation accuracy')\n",
    "plt.title('Training and validation accuracy')\n",
    "plt.xlabel('Epochs')\n",
    "plt.ylabel('Accuracy')\n",
    "plt.legend()\n",
    "plt.show()"
   ]
  },
  {
   "cell_type": "code",
   "execution_count": 13,
   "metadata": {},
   "outputs": [
    {
     "data": {
      "image/png": "[encoded data removed]",
      "text/plain": [
       "<Figure size 432x288 with 1 Axes>"
      ]
     },
     "metadata": {
      "needs_background": "light"
     },
     "output_type": "display_data"
    }
   ],
   "source": [
    "plt.clf()\n",
    "\n",
    "loss = history.history['loss']\n",
    "val_loss = history.history['val_loss']\n",
    "\n",
    "plt.plot(epochs, loss, 'bo', label='Training loss')\n",
    "plt.plot(epochs, val_loss, 'b', label='Validation loss')\n",
    "plt.xlabel('Epochs')\n",
    "plt.ylabel('Loss')\n",
    "plt.legend()\n",
    "plt.show()"
   ]
  },
  {
   "cell_type": "markdown",
   "metadata": {},
   "source": [
    "This simple convnet with no regularization is extremely accurate on both the test (99%+) and validation (98%+) sets. However, it is clearly badly overfit. As the figure above indicates, the validation loss goes up after 5 epochs, meaning the model is doing progressively worse on unseen data as it better learns the training set.\n",
    "\n",
    "To combat this overfitting I will first attempt to use data augmentation. By introducting noise into the images the model sees, data augmentation guarantees that the model will never encounter the same image twice and thus hopefully make it more generalizable."
   ]
  },
  {
   "cell_type": "code",
   "execution_count": 17,
   "metadata": {},
   "outputs": [],
   "source": [
    "from keras.preprocessing.image import ImageDataGenerator\n",
    "\n",
    "train_datagen = ImageDataGenerator(\n",
    "    rotation_range=40,\n",
    "    width_shift_range=0.2,\n",
    "    height_shift_range=0.2,\n",
    "    shear_range=0.2,\n",
    "    zoom_range=0.2,\n",
    "    horizontal_flip=True,\n",
    "    fill_mode='nearest')\n",
    "\n",
    "train_datagen.fit(train)\n",
    "\n",
    "test_datagen = ImageDataGenerator()\n",
    "\n",
    "train_generator = train_datagen.flow(x=train[:32000], y=labels[:32000])\n",
    "validation_generator = test_datagen.flow(x=train[32000:], y=labels[32000:])"
   ]
  },
  {
   "cell_type": "code",
   "execution_count": 19,
   "metadata": {},
   "outputs": [
    {
     "name": "stdout",
     "output_type": "stream",
     "text": [
      "Epoch 1/20\n",
      "500/500 [==============================] - 21s 42ms/step - loss: 1.4031 - accuracy: 0.5165 - val_loss: 0.2789 - val_accuracy: 0.8633\n",
      "Epoch 2/20\n",
      "500/500 [==============================] - 21s 41ms/step - loss: 0.8045 - accuracy: 0.7331 - val_loss: 0.2703 - val_accuracy: 0.9024\n",
      "Epoch 3/20\n",
      "500/500 [==============================] - 21s 42ms/step - loss: 0.6095 - accuracy: 0.7976 - val_loss: 0.1679 - val_accuracy: 0.9152\n",
      "Epoch 4/20\n",
      "500/500 [==============================] - 20s 40ms/step - loss: 0.4913 - accuracy: 0.8421 - val_loss: 0.2090 - val_accuracy: 0.9281\n",
      "Epoch 5/20\n",
      "500/500 [==============================] - 23s 46ms/step - loss: 0.4398 - accuracy: 0.8605 - val_loss: 0.3403 - val_accuracy: 0.9393\n",
      "Epoch 6/20\n",
      "500/500 [==============================] - 22s 43ms/step - loss: 0.3823 - accuracy: 0.8786 - val_loss: 0.0857 - val_accuracy: 0.9625\n",
      "Epoch 7/20\n",
      "500/500 [==============================] - 20s 41ms/step - loss: 0.3538 - accuracy: 0.8870 - val_loss: 0.0944 - val_accuracy: 0.9522\n",
      "Epoch 8/20\n",
      "500/500 [==============================] - 20s 40ms/step - loss: 0.3383 - accuracy: 0.8953 - val_loss: 0.0081 - val_accuracy: 0.9599\n",
      "Epoch 9/20\n",
      "500/500 [==============================] - 21s 41ms/step - loss: 0.3090 - accuracy: 0.9021 - val_loss: 0.0096 - val_accuracy: 0.9590\n",
      "Epoch 10/20\n",
      "500/500 [==============================] - 21s 41ms/step - loss: 0.2960 - accuracy: 0.9066 - val_loss: 0.4346 - val_accuracy: 0.9607\n",
      "Epoch 11/20\n",
      "500/500 [==============================] - 20s 39ms/step - loss: 0.2834 - accuracy: 0.9114 - val_loss: 0.1180 - val_accuracy: 0.9670\n",
      "Epoch 12/20\n",
      "500/500 [==============================] - 20s 40ms/step - loss: 0.2780 - accuracy: 0.9135 - val_loss: 0.1131 - val_accuracy: 0.9473\n",
      "Epoch 13/20\n",
      "500/500 [==============================] - 20s 41ms/step - loss: 0.2726 - accuracy: 0.9144 - val_loss: 0.0341 - val_accuracy: 0.9574\n",
      "Epoch 14/20\n",
      "500/500 [==============================] - 22s 43ms/step - loss: 0.2556 - accuracy: 0.9188 - val_loss: 0.2845 - val_accuracy: 0.9700\n",
      "Epoch 15/20\n",
      "500/500 [==============================] - 21s 42ms/step - loss: 0.2507 - accuracy: 0.9233 - val_loss: 0.6179 - val_accuracy: 0.9697\n",
      "Epoch 16/20\n",
      "500/500 [==============================] - 20s 40ms/step - loss: 0.2519 - accuracy: 0.9226 - val_loss: 0.4050 - val_accuracy: 0.9577\n",
      "Epoch 17/20\n",
      "500/500 [==============================] - 20s 40ms/step - loss: 0.2528 - accuracy: 0.9231 - val_loss: 0.1499 - val_accuracy: 0.9662\n",
      "Epoch 18/20\n",
      "500/500 [==============================] - 20s 41ms/step - loss: 0.2586 - accuracy: 0.9229 - val_loss: 0.3601 - val_accuracy: 0.9665\n",
      "Epoch 19/20\n",
      "500/500 [==============================] - 20s 41ms/step - loss: 0.2571 - accuracy: 0.9235 - val_loss: 0.0462 - val_accuracy: 0.9654\n",
      "Epoch 20/20\n",
      "500/500 [==============================] - 20s 41ms/step - loss: 0.2587 - accuracy: 0.9196 - val_loss: 0.1537 - val_accuracy: 0.9555\n"
     ]
    }
   ],
   "source": [
    "from math import ceil\n",
    "\n",
    "model = models.Sequential()\n",
    "model.add(layers.Conv2D(32, (3, 3), activation='relu', input_shape=(28, 28, 1)))\n",
    "model.add(layers.MaxPooling2D(2, 2))\n",
    "model.add(layers.Conv2D(64, (3, 3), activation='relu'))\n",
    "model.add(layers.MaxPooling2D(2, 2))\n",
    "model.add(layers.Flatten())\n",
    "model.add(layers.Dense(512, activation='relu'))\n",
    "model.add(layers.Dense(10, activation='softmax'))\n",
    "\n",
    "model.compile(optimizer='rmsprop',\n",
    "loss='categorical_crossentropy',\n",
    "metrics=['accuracy'])\n",
    "\n",
    "history = model.fit_generator(train_generator, steps_per_epoch=ceil(32000/64), epochs=20, \n",
    "                              validation_data=validation_generator, validation_steps=ceil(10000/64))"
   ]
  },
  {
   "cell_type": "code",
   "execution_count": 20,
   "metadata": {},
   "outputs": [
    {
     "data": {
      "image/png": "[encoded data removed]",
      "text/plain": [
       "<Figure size 432x288 with 1 Axes>"
      ]
     },
     "metadata": {
      "needs_background": "light"
     },
     "output_type": "display_data"
    }
   ],
   "source": [
    "plt.clf()\n",
    "\n",
    "loss = history.history['loss']\n",
    "val_loss = history.history['val_loss']\n",
    "\n",
    "plt.plot(epochs, loss, 'bo', label='Training loss')\n",
    "plt.plot(epochs, val_loss, 'b', label='Validation loss')\n",
    "plt.xlabel('Epochs')\n",
    "plt.ylabel('Loss')\n",
    "plt.legend()\n",
    "plt.show()"
   ]
  },
  {
   "cell_type": "code",
   "execution_count": 21,
   "metadata": {},
   "outputs": [
    {
     "data": {
      "image/png": "[encoded data removed]",
      "text/plain": [
       "<Figure size 432x288 with 1 Axes>"
      ]
     },
     "metadata": {
      "needs_background": "light"
     },
     "output_type": "display_data"
    }
   ],
   "source": [
    "plt.clf()\n",
    "\n",
    "accuracy = history.history[\"accuracy\"]\n",
    "val_accuracy = history.history[\"val_accuracy\"]\n",
    "\n",
    "plt.plot(epochs, accuracy, 'bo', label='Training accuracy')\n",
    "plt.plot(epochs, val_accuracy, 'b', label='Validation accuracy')\n",
    "plt.title('Training and validation accuracy')\n",
    "plt.xlabel('Epochs')\n",
    "plt.ylabel('Accuracy')\n",
    "plt.legend()\n",
    "plt.show()"
   ]
  },
  {
   "cell_type": "markdown",
   "metadata": {},
   "source": [
    "This model is signifcantly less overfit, but has drastically diminished accuracy. Data augmentation is introducing too much noise. In the next iteration, I eschew data augmentation in favor of a dropout layer which combats overfitting by randomly dropping features."
   ]
  },
  {
   "cell_type": "code",
   "execution_count": 22,
   "metadata": {},
   "outputs": [
    {
     "name": "stdout",
     "output_type": "stream",
     "text": [
      "Train on 33600 samples, validate on 8400 samples\n",
      "Epoch 1/20\n",
      "33600/33600 [==============================] - 37s 1ms/step - loss: 0.2205 - accuracy: 0.9309 - val_loss: 0.0742 - val_accuracy: 0.9769\n",
      "Epoch 2/20\n",
      "33600/33600 [==============================] - 35s 1ms/step - loss: 0.0789 - accuracy: 0.9752 - val_loss: 0.0477 - val_accuracy: 0.9862\n",
      "Epoch 3/20\n",
      "33600/33600 [==============================] - 34s 1ms/step - loss: 0.0612 - accuracy: 0.9811 - val_loss: 0.0425 - val_accuracy: 0.9851\n",
      "Epoch 4/20\n",
      "33600/33600 [==============================] - 34s 1ms/step - loss: 0.0484 - accuracy: 0.9855 - val_loss: 0.0344 - val_accuracy: 0.9898\n",
      "Epoch 5/20\n",
      "33600/33600 [==============================] - 33s 993us/step - loss: 0.0441 - accuracy: 0.9857 - val_loss: 0.0422 - val_accuracy: 0.9886\n",
      "Epoch 6/20\n",
      "33600/33600 [==============================] - 37s 1ms/step - loss: 0.0383 - accuracy: 0.9877 - val_loss: 0.0346 - val_accuracy: 0.9893\n",
      "Epoch 7/20\n",
      "33600/33600 [==============================] - 38s 1ms/step - loss: 0.0362 - accuracy: 0.9885 - val_loss: 0.0409 - val_accuracy: 0.9901\n",
      "Epoch 8/20\n",
      "33600/33600 [==============================] - 35s 1ms/step - loss: 0.0329 - accuracy: 0.9895 - val_loss: 0.0567 - val_accuracy: 0.9857s\n",
      "Epoch 9/20\n",
      "33600/33600 [==============================] - 36s 1ms/step - loss: 0.0294 - accuracy: 0.9910 - val_loss: 0.0563 - val_accuracy: 0.9873\n",
      "Epoch 10/20\n",
      "33600/33600 [==============================] - 38s 1ms/step - loss: 0.0298 - accuracy: 0.9902 - val_loss: 0.0376 - val_accuracy: 0.9904\n",
      "Epoch 11/20\n",
      "33600/33600 [==============================] - 38s 1ms/step - loss: 0.0279 - accuracy: 0.9920 - val_loss: 0.0351 - val_accuracy: 0.9913\n",
      "Epoch 12/20\n",
      "33600/33600 [==============================] - 37s 1ms/step - loss: 0.0260 - accuracy: 0.9923 - val_loss: 0.0378 - val_accuracy: 0.9904\n",
      "Epoch 13/20\n",
      "33600/33600 [==============================] - 35s 1ms/step - loss: 0.0250 - accuracy: 0.9923 - val_loss: 0.0386 - val_accuracy: 0.9919\n",
      "Epoch 14/20\n",
      "33600/33600 [==============================] - 34s 1ms/step - loss: 0.0230 - accuracy: 0.9923 - val_loss: 0.0325 - val_accuracy: 0.9913\n",
      "Epoch 15/20\n",
      "33600/33600 [==============================] - 34s 1ms/step - loss: 0.0221 - accuracy: 0.9935 - val_loss: 0.0360 - val_accuracy: 0.9907\n",
      "Epoch 16/20\n",
      "33600/33600 [==============================] - 34s 1ms/step - loss: 0.0228 - accuracy: 0.9931 - val_loss: 0.0341 - val_accuracy: 0.9919\n",
      "Epoch 17/20\n",
      "33600/33600 [==============================] - 35s 1ms/step - loss: 0.0212 - accuracy: 0.9937 - val_loss: 0.0389 - val_accuracy: 0.9913\n",
      "Epoch 18/20\n",
      "33600/33600 [==============================] - 35s 1ms/step - loss: 0.0210 - accuracy: 0.9938 - val_loss: 0.0392 - val_accuracy: 0.9919\n",
      "Epoch 19/20\n",
      "33600/33600 [==============================] - 34s 1ms/step - loss: 0.0192 - accuracy: 0.9941 - val_loss: 0.0385 - val_accuracy: 0.9901\n",
      "Epoch 20/20\n",
      "33600/33600 [==============================] - 36s 1ms/step - loss: 0.0206 - accuracy: 0.9937 - val_loss: 0.0330 - val_accuracy: 0.9930\n"
     ]
    }
   ],
   "source": [
    "model = models.Sequential()\n",
    "model.add(layers.Conv2D(32, (3, 3), activation='relu', input_shape=(28, 28, 1)))\n",
    "model.add(layers.MaxPooling2D(2, 2))\n",
    "model.add(layers.Conv2D(64, (3, 3), activation='relu'))\n",
    "model.add(layers.MaxPooling2D(2, 2))\n",
    "model.add(layers.Flatten())\n",
    "model.add(layers.Dropout(0.5))\n",
    "model.add(layers.Dense(512, activation='relu'))\n",
    "model.add(layers.Dense(10, activation='softmax'))\n",
    "\n",
    "model.compile(optimizer='rmsprop',\n",
    "loss='categorical_crossentropy',\n",
    "metrics=['accuracy'])\n",
    "\n",
    "history = model.fit(train, labels, batch_size=64, epochs=20, validation_split=0.2)"
   ]
  },
  {
   "cell_type": "code",
   "execution_count": 23,
   "metadata": {},
   "outputs": [
    {
     "data": {
      "image/png": "[encoded data removed]",
      "text/plain": [
       "<Figure size 432x288 with 1 Axes>"
      ]
     },
     "metadata": {
      "needs_background": "light"
     },
     "output_type": "display_data"
    }
   ],
   "source": [
    "plt.clf()\n",
    "\n",
    "loss = history.history['loss']\n",
    "val_loss = history.history['val_loss']\n",
    "\n",
    "plt.plot(epochs, loss, 'bo', label='Training loss')\n",
    "plt.plot(epochs, val_loss, 'b', label='Validation loss')\n",
    "plt.xlabel('Epochs')\n",
    "plt.ylabel('Loss')\n",
    "plt.legend()\n",
    "plt.show()"
   ]
  },
  {
   "cell_type": "code",
   "execution_count": 24,
   "metadata": {},
   "outputs": [
    {
     "data": {
      "image/png": "[encoded data removed]",
      "text/plain": [
       "<Figure size 432x288 with 1 Axes>"
      ]
     },
     "metadata": {
      "needs_background": "light"
     },
     "output_type": "display_data"
    }
   ],
   "source": [
    "plt.clf()\n",
    "\n",
    "accuracy = history.history[\"accuracy\"]\n",
    "val_accuracy = history.history[\"val_accuracy\"]\n",
    "\n",
    "plt.plot(epochs, accuracy, 'bo', label='Training accuracy')\n",
    "plt.plot(epochs, val_accuracy, 'b', label='Validation accuracy')\n",
    "plt.title('Training and validation accuracy')\n",
    "plt.xlabel('Epochs')\n",
    "plt.ylabel('Accuracy')\n",
    "plt.legend()\n",
    "plt.show()"
   ]
  },
  {
   "cell_type": "markdown",
   "metadata": {},
   "source": [
    "Adding a dropout layer produces a very well fit model that is nearly as accurate as the overfit original. Next, I'll compare this to adding weight decay in the form of L2 regulariztion to the two convolutional layers."
   ]
  },
  {
   "cell_type": "code",
   "execution_count": 33,
   "metadata": {},
   "outputs": [
    {
     "name": "stdout",
     "output_type": "stream",
     "text": [
      "Train on 33600 samples, validate on 8400 samples\n",
      "Epoch 1/20\n",
      "33600/33600 [==============================] - 36s 1ms/step - loss: 0.2176 - accuracy: 0.9438 - val_loss: 0.1132 - val_accuracy: 0.9726\n",
      "Epoch 2/20\n",
      "33600/33600 [==============================] - 33s 990us/step - loss: 0.0805 - accuracy: 0.9821 - val_loss: 0.0799 - val_accuracy: 0.9830\n",
      "Epoch 3/20\n",
      "33600/33600 [==============================] - 34s 1ms/step - loss: 0.0578 - accuracy: 0.9867 - val_loss: 0.0667 - val_accuracy: 0.9840\n",
      "Epoch 4/20\n",
      "33600/33600 [==============================] - 33s 986us/step - loss: 0.0458 - accuracy: 0.9899 - val_loss: 0.0614 - val_accuracy: 0.9858\n",
      "Epoch 5/20\n",
      "33600/33600 [==============================] - 36s 1ms/step - loss: 0.0372 - accuracy: 0.9924 - val_loss: 0.0546 - val_accuracy: 0.9865\n",
      "Epoch 6/20\n",
      "33600/33600 [==============================] - 34s 1ms/step - loss: 0.0321 - accuracy: 0.9936 - val_loss: 0.0774 - val_accuracy: 0.9808\n",
      "Epoch 7/20\n",
      "33600/33600 [==============================] - 33s 984us/step - loss: 0.0283 - accuracy: 0.9938 - val_loss: 0.0466 - val_accuracy: 0.9896\n",
      "Epoch 8/20\n",
      "33600/33600 [==============================] - 35s 1ms/step - loss: 0.0243 - accuracy: 0.9954 - val_loss: 0.0463 - val_accuracy: 0.9900\n",
      "Epoch 9/20\n",
      "33600/33600 [==============================] - 37s 1ms/step - loss: 0.0224 - accuracy: 0.9960 - val_loss: 0.0492 - val_accuracy: 0.9881\n",
      "Epoch 10/20\n",
      "33600/33600 [==============================] - 35s 1ms/step - loss: 0.0206 - accuracy: 0.9962 - val_loss: 0.0488 - val_accuracy: 0.9882\n",
      "Epoch 11/20\n",
      "33600/33600 [==============================] - 34s 1ms/step - loss: 0.0179 - accuracy: 0.9968 - val_loss: 0.0528 - val_accuracy: 0.9881\n",
      "Epoch 12/20\n",
      "33600/33600 [==============================] - 34s 1ms/step - loss: 0.0167 - accuracy: 0.9972 - val_loss: 0.0493 - val_accuracy: 0.9901\n",
      "Epoch 13/20\n",
      "33600/33600 [==============================] - 33s 992us/step - loss: 0.0156 - accuracy: 0.9975 - val_loss: 0.0493 - val_accuracy: 0.9911\n",
      "Epoch 14/20\n",
      "33600/33600 [==============================] - 33s 996us/step - loss: 0.0147 - accuracy: 0.9977 - val_loss: 0.0615 - val_accuracy: 0.9861\n",
      "Epoch 15/20\n",
      "33600/33600 [==============================] - 34s 1ms/step - loss: 0.0129 - accuracy: 0.9976 - val_loss: 0.0582 - val_accuracy: 0.9880\n",
      "Epoch 16/20\n",
      "33600/33600 [==============================] - 34s 1ms/step - loss: 0.0124 - accuracy: 0.9980 - val_loss: 0.0515 - val_accuracy: 0.9898\n",
      "Epoch 17/20\n",
      "33600/33600 [==============================] - 36s 1ms/step - loss: 0.0116 - accuracy: 0.9982 - val_loss: 0.0510 - val_accuracy: 0.9898\n",
      "Epoch 18/20\n",
      "33600/33600 [==============================] - 35s 1ms/step - loss: 0.0109 - accuracy: 0.9985 - val_loss: 0.0623 - val_accuracy: 0.9879\n",
      "Epoch 19/20\n",
      "33600/33600 [==============================] - 37s 1ms/step - loss: 0.0114 - accuracy: 0.9980 - val_loss: 0.0551 - val_accuracy: 0.9888\n",
      "Epoch 20/20\n",
      "33600/33600 [==============================] - 34s 1ms/step - loss: 0.0104 - accuracy: 0.9985 - val_loss: 0.0652 - val_accuracy: 0.9861\n"
     ]
    }
   ],
   "source": [
    "from keras import regularizers\n",
    "\n",
    "model = models.Sequential()\n",
    "model.add(layers.Conv2D(32, (3, 3), kernel_regularizer=regularizers.l2(0.001),\n",
    "                        activation='relu', input_shape=(28, 28, 1)))\n",
    "model.add(layers.MaxPooling2D(2, 2))\n",
    "model.add(layers.Conv2D(64, (3, 3), kernel_regularizer=regularizers.l2(0.001), activation='relu'))\n",
    "model.add(layers.MaxPooling2D(2, 2))\n",
    "model.add(layers.Flatten())\n",
    "model.add(layers.Dense(512, activation='relu'))\n",
    "model.add(layers.Dense(10, activation='softmax'))\n",
    "\n",
    "model.compile(optimizer='rmsprop',\n",
    "loss='categorical_crossentropy',\n",
    "metrics=['accuracy'])\n",
    "\n",
    "history = model.fit(train, labels, batch_size=64, epochs=20, validation_split=0.2)"
   ]
  },
  {
   "cell_type": "code",
   "execution_count": 34,
   "metadata": {},
   "outputs": [
    {
     "data": {
      "image/png": "[encoded data removed]",
      "text/plain": [
       "<Figure size 432x288 with 1 Axes>"
      ]
     },
     "metadata": {
      "needs_background": "light"
     },
     "output_type": "display_data"
    }
   ],
   "source": [
    "plt.clf()\n",
    "\n",
    "loss = history.history['loss']\n",
    "val_loss = history.history['val_loss']\n",
    "\n",
    "plt.plot(epochs, loss, 'bo', label='Training loss')\n",
    "plt.plot(epochs, val_loss, 'b', label='Validation loss')\n",
    "plt.xlabel('Epochs')\n",
    "plt.ylabel('Loss')\n",
    "plt.legend()\n",
    "plt.show()"
   ]
  },
  {
   "cell_type": "code",
   "execution_count": 36,
   "metadata": {},
   "outputs": [
    {
     "data": {
      "image/png": "[encoded data removed]",
      "text/plain": [
       "<Figure size 432x288 with 1 Axes>"
      ]
     },
     "metadata": {
      "needs_background": "light"
     },
     "output_type": "display_data"
    }
   ],
   "source": [
    "plt.clf()\n",
    "\n",
    "accuracy = history.history[\"accuracy\"]\n",
    "val_accuracy = history.history[\"val_accuracy\"]\n",
    "\n",
    "plt.plot(epochs, accuracy, 'bo', label='Training accuracy')\n",
    "plt.plot(epochs, val_accuracy, 'b', label='Validation accuracy')\n",
    "plt.title('Training and validation accuracy')\n",
    "plt.xlabel('Epochs')\n",
    "plt.ylabel('Accuracy')\n",
    "plt.legend()\n",
    "plt.show()"
   ]
  },
  {
   "cell_type": "markdown",
   "metadata": {},
   "source": [
    "While the accuracy on the training set is improved by weight decay, the accuracy on the validation set is worse. In additon, the model is overfitting after 6 epochs. \n",
    "\n",
    "As a final pass, I'll combine dropout and weight decay to see if it results in a more accurate, generalizable model compared to dropout alone."
   ]
  },
  {
   "cell_type": "code",
   "execution_count": 63,
   "metadata": {},
   "outputs": [
    {
     "name": "stdout",
     "output_type": "stream",
     "text": [
      "Train on 33600 samples, validate on 8400 samples\n",
      "Epoch 1/20\n",
      "33600/33600 [==============================] - 36s 1ms/step - loss: 0.2538 - accuracy: 0.9314 - val_loss: 0.0998 - val_accuracy: 0.9786\n",
      "Epoch 2/20\n",
      "33600/33600 [==============================] - 35s 1ms/step - loss: 0.1119 - accuracy: 0.9743 - val_loss: 0.0713 - val_accuracy: 0.9852\n",
      "Epoch 3/20\n",
      "33600/33600 [==============================] - 35s 1ms/step - loss: 0.0865 - accuracy: 0.9795 - val_loss: 0.0631 - val_accuracy: 0.9869\n",
      "Epoch 4/20\n",
      "33600/33600 [==============================] - 34s 1ms/step - loss: 0.0723 - accuracy: 0.9828 - val_loss: 0.0681 - val_accuracy: 0.9837\n",
      "Epoch 5/20\n",
      "33600/33600 [==============================] - 34s 1ms/step - loss: 0.0656 - accuracy: 0.9843 - val_loss: 0.0569 - val_accuracy: 0.9873\n",
      "Epoch 6/20\n",
      "33600/33600 [==============================] - 34s 1ms/step - loss: 0.0605 - accuracy: 0.9849 - val_loss: 0.0520 - val_accuracy: 0.9882\n",
      "Epoch 7/20\n",
      "33600/33600 [==============================] - 34s 1ms/step - loss: 0.0567 - accuracy: 0.9868 - val_loss: 0.0501 - val_accuracy: 0.9888\n",
      "Epoch 8/20\n",
      "33600/33600 [==============================] - 34s 1ms/step - loss: 0.0530 - accuracy: 0.9868 - val_loss: 0.0478 - val_accuracy: 0.9889\n",
      "Epoch 9/20\n",
      "33600/33600 [==============================] - 34s 1ms/step - loss: 0.0483 - accuracy: 0.9879 - val_loss: 0.0440 - val_accuracy: 0.9899\n",
      "Epoch 10/20\n",
      "33600/33600 [==============================] - 34s 1ms/step - loss: 0.0459 - accuracy: 0.9888 - val_loss: 0.0512 - val_accuracy: 0.9879\n",
      "Epoch 11/20\n",
      "33600/33600 [==============================] - 34s 999us/step - loss: 0.0449 - accuracy: 0.9890 - val_loss: 0.0414 - val_accuracy: 0.9901\n",
      "Epoch 12/20\n",
      "33600/33600 [==============================] - 38s 1ms/step - loss: 0.0448 - accuracy: 0.9887 - val_loss: 0.0467 - val_accuracy: 0.9895\n",
      "Epoch 13/20\n",
      "33600/33600 [==============================] - 36s 1ms/step - loss: 0.0410 - accuracy: 0.9902 - val_loss: 0.0491 - val_accuracy: 0.9894\n",
      "Epoch 14/20\n",
      "33600/33600 [==============================] - 36s 1ms/step - loss: 0.0411 - accuracy: 0.9903 - val_loss: 0.0484 - val_accuracy: 0.9895\n",
      "Epoch 15/20\n",
      "33600/33600 [==============================] - 40s 1ms/step - loss: 0.0399 - accuracy: 0.9901 - val_loss: 0.0436 - val_accuracy: 0.9902\n",
      "Epoch 16/20\n",
      "33600/33600 [==============================] - 37s 1ms/step - loss: 0.0391 - accuracy: 0.9912 - val_loss: 0.0421 - val_accuracy: 0.9905\n",
      "Epoch 17/20\n",
      "33600/33600 [==============================] - 36s 1ms/step - loss: 0.0384 - accuracy: 0.9907 - val_loss: 0.0440 - val_accuracy: 0.9893\n",
      "Epoch 18/20\n",
      "33600/33600 [==============================] - 35s 1ms/step - loss: 0.0372 - accuracy: 0.9911 - val_loss: 0.0459 - val_accuracy: 0.9896\n",
      "Epoch 19/20\n",
      "33600/33600 [==============================] - 39s 1ms/step - loss: 0.0368 - accuracy: 0.9911 - val_loss: 0.0448 - val_accuracy: 0.9896\n",
      "Epoch 20/20\n",
      "33600/33600 [==============================] - 35s 1ms/step - loss: 0.0377 - accuracy: 0.9910 - val_loss: 0.0414 - val_accuracy: 0.9904\n"
     ]
    }
   ],
   "source": [
    "model = models.Sequential()\n",
    "model.add(layers.Conv2D(32, (3, 3), kernel_regularizer=regularizers.l2(0.001),\n",
    "                        activation='relu', input_shape=(28, 28, 1)))\n",
    "model.add(layers.MaxPooling2D(2, 2))\n",
    "model.add(layers.Conv2D(64, (3, 3), kernel_regularizer=regularizers.l2(0.001), activation='relu'))\n",
    "model.add(layers.MaxPooling2D(2, 2))\n",
    "model.add(layers.Flatten())\n",
    "model.add(layers.Dropout(0.5))\n",
    "model.add(layers.Dense(512, activation='relu'))\n",
    "model.add(layers.Dense(10, activation='softmax'))\n",
    "\n",
    "model.compile(optimizer='rmsprop',\n",
    "loss='categorical_crossentropy',\n",
    "metrics=['accuracy'])\n",
    "\n",
    "history = model.fit(train, labels, batch_size=64, epochs=20, validation_split=0.2)"
   ]
  },
  {
   "cell_type": "code",
   "execution_count": 39,
   "metadata": {},
   "outputs": [
    {
     "data": {
      "image/png": "[encoded data removed]",
      "text/plain": [
       "<Figure size 432x288 with 1 Axes>"
      ]
     },
     "metadata": {
      "needs_background": "light"
     },
     "output_type": "display_data"
    }
   ],
   "source": [
    "plt.clf()\n",
    "\n",
    "loss = history.history['loss']\n",
    "val_loss = history.history['val_loss']\n",
    "\n",
    "plt.plot(epochs, loss, 'bo', label='Training loss')\n",
    "plt.plot(epochs, val_loss, 'b', label='Validation loss')\n",
    "plt.xlabel('Epochs')\n",
    "plt.ylabel('Loss')\n",
    "plt.legend()\n",
    "plt.show()"
   ]
  },
  {
   "cell_type": "code",
   "execution_count": 40,
   "metadata": {},
   "outputs": [
    {
     "data": {
      "image/png": "[encoded data removed]",
      "text/plain": [
       "<Figure size 432x288 with 1 Axes>"
      ]
     },
     "metadata": {
      "needs_background": "light"
     },
     "output_type": "display_data"
    }
   ],
   "source": [
    "plt.clf()\n",
    "\n",
    "accuracy = history.history[\"accuracy\"]\n",
    "val_accuracy = history.history[\"val_accuracy\"]\n",
    "\n",
    "plt.plot(epochs, accuracy, 'bo', label='Training accuracy')\n",
    "plt.plot(epochs, val_accuracy, 'b', label='Validation accuracy')\n",
    "plt.title('Training and validation accuracy')\n",
    "plt.xlabel('Epochs')\n",
    "plt.ylabel('Accuracy')\n",
    "plt.legend()\n",
    "plt.show()"
   ]
  },
  {
   "cell_type": "code",
   "execution_count": 68,
   "metadata": {},
   "outputs": [
    {
     "data": {
      "text/plain": [
       "15"
      ]
     },
     "execution_count": 68,
     "metadata": {},
     "output_type": "execute_result"
    }
   ],
   "source": [
    "np.argmax(history.history[\"val_accuracy\"])"
   ]
  },
  {
   "cell_type": "markdown",
   "metadata": {},
   "source": [
    "This model is extremely well fit and actually performs better on the validation data compared to the test data after 15 epochs! The validation accuracy peaks after 15 epochs, so I'll retrain the model, restricting it to 15 epochs, and submit it to Kaggle for an official score."
   ]
  },
  {
   "cell_type": "code",
   "execution_count": 70,
   "metadata": {},
   "outputs": [
    {
     "name": "stdout",
     "output_type": "stream",
     "text": [
      "Train on 33600 samples, validate on 8400 samples\n",
      "Epoch 1/15\n",
      "33600/33600 [==============================] - 34s 1ms/step - loss: 0.2626 - accuracy: 0.9281 - val_loss: 0.1071 - val_accuracy: 0.9768\n",
      "Epoch 2/15\n",
      "33600/33600 [==============================] - 34s 1ms/step - loss: 0.1174 - accuracy: 0.9728 - val_loss: 0.0701 - val_accuracy: 0.9862\n",
      "Epoch 3/15\n",
      "33600/33600 [==============================] - 34s 1ms/step - loss: 0.0878 - accuracy: 0.9797 - val_loss: 0.0621 - val_accuracy: 0.9869\n",
      "Epoch 4/15\n",
      "33600/33600 [==============================] - 34s 1ms/step - loss: 0.0759 - accuracy: 0.9818 - val_loss: 0.0528 - val_accuracy: 0.9890\n",
      "Epoch 5/15\n",
      "33600/33600 [==============================] - 34s 1ms/step - loss: 0.0665 - accuracy: 0.9833 - val_loss: 0.0522 - val_accuracy: 0.9879\n",
      "Epoch 6/15\n",
      "33600/33600 [==============================] - 34s 1ms/step - loss: 0.0623 - accuracy: 0.9842 - val_loss: 0.0593 - val_accuracy: 0.9855\n",
      "Epoch 7/15\n",
      "33600/33600 [==============================] - 34s 1ms/step - loss: 0.0577 - accuracy: 0.9855 - val_loss: 0.0480 - val_accuracy: 0.9889\n",
      "Epoch 8/15\n",
      "33600/33600 [==============================] - 34s 1ms/step - loss: 0.0534 - accuracy: 0.9865 - val_loss: 0.0466 - val_accuracy: 0.9893\n",
      "Epoch 9/15\n",
      "33600/33600 [==============================] - 34s 1ms/step - loss: 0.0500 - accuracy: 0.9875 - val_loss: 0.0502 - val_accuracy: 0.9892\n",
      "Epoch 10/15\n",
      "33600/33600 [==============================] - 34s 1ms/step - loss: 0.0475 - accuracy: 0.9878 - val_loss: 0.0493 - val_accuracy: 0.9892\n",
      "Epoch 11/15\n",
      "33600/33600 [==============================] - 34s 1ms/step - loss: 0.0472 - accuracy: 0.9885 - val_loss: 0.0445 - val_accuracy: 0.9890\n",
      "Epoch 12/15\n",
      "33600/33600 [==============================] - 34s 1ms/step - loss: 0.0457 - accuracy: 0.9886 - val_loss: 0.0423 - val_accuracy: 0.9904\n",
      "Epoch 13/15\n",
      "33600/33600 [==============================] - 34s 1ms/step - loss: 0.0428 - accuracy: 0.9893 - val_loss: 0.0462 - val_accuracy: 0.9890\n",
      "Epoch 14/15\n",
      "33600/33600 [==============================] - 34s 1ms/step - loss: 0.0433 - accuracy: 0.9894 - val_loss: 0.0433 - val_accuracy: 0.9904\n",
      "Epoch 15/15\n",
      "33600/33600 [==============================] - 34s 1ms/step - loss: 0.0413 - accuracy: 0.9899 - val_loss: 0.0450 - val_accuracy: 0.9899\n"
     ]
    }
   ],
   "source": [
    "model = models.Sequential()\n",
    "model.add(layers.Conv2D(32, (3, 3), kernel_regularizer=regularizers.l2(0.001),\n",
    "                        activation='relu', input_shape=(28, 28, 1)))\n",
    "model.add(layers.MaxPooling2D(2, 2))\n",
    "model.add(layers.Conv2D(64, (3, 3), kernel_regularizer=regularizers.l2(0.001), activation='relu'))\n",
    "model.add(layers.MaxPooling2D(2, 2))\n",
    "model.add(layers.Flatten())\n",
    "model.add(layers.Dropout(0.5))\n",
    "model.add(layers.Dense(512, activation='relu'))\n",
    "model.add(layers.Dense(10, activation='softmax'))\n",
    "\n",
    "model.compile(optimizer='rmsprop',\n",
    "loss='categorical_crossentropy',\n",
    "metrics=['accuracy'])\n",
    "\n",
    "history = model.fit(train, labels, batch_size=64, epochs=15, validation_split=0.2)"
   ]
  },
  {
   "cell_type": "markdown",
   "metadata": {},
   "source": [
    "## Submission"
   ]
  },
  {
   "cell_type": "code",
   "execution_count": 71,
   "metadata": {},
   "outputs": [
    {
     "data": {
      "text/plain": [
       "array([2, 0, 9, ..., 3, 9, 2], dtype=int64)"
      ]
     },
     "execution_count": 71,
     "metadata": {},
     "output_type": "execute_result"
    }
   ],
   "source": [
    "predictions = model.predict_classes(test)\n",
    "predictions"
   ]
  },
  {
   "cell_type": "code",
   "execution_count": 72,
   "metadata": {},
   "outputs": [
    {
     "data": {
      "text/plain": [
       "array([    1,     2,     3, ..., 27998, 27999, 28000])"
      ]
     },
     "execution_count": 72,
     "metadata": {},
     "output_type": "execute_result"
    }
   ],
   "source": [
    "labels = np.array(range(1, predictions.size + 1))\n",
    "labels"
   ]
  },
  {
   "cell_type": "code",
   "execution_count": 73,
   "metadata": {},
   "outputs": [
    {
     "data": {
      "text/plain": [
       "{'ImageId': array([    1,     2,     3, ..., 27998, 27999, 28000]),\n",
       " 'Label': array([2, 0, 9, ..., 3, 9, 2], dtype=int64)}"
      ]
     },
     "execution_count": 73,
     "metadata": {},
     "output_type": "execute_result"
    }
   ],
   "source": [
    "submission = {'ImageId': labels, 'Label': predictions}\n",
    "submission"
   ]
  },
  {
   "cell_type": "code",
   "execution_count": 76,
   "metadata": {},
   "outputs": [],
   "source": [
    "submission = pd.DataFrame(submission)\n",
    "submission.to_csv('submission.csv', index=False)"
   ]
  },
  {
   "cell_type": "markdown",
   "metadata": {},
   "source": [
    "![score](digit_recognizer_score.png)"
   ]
  },
  {
   "cell_type": "markdown",
   "metadata": {},
   "source": [
    "99.071% accurate on the Kaggle test data and a well fit model.\n",
    "\n",
    "While the model could be improved on with additional layers and further hyperparameter tuning, I do not have the available computing power to easily effect such an improvement. In any event, my goals are accomplished and I will leave it here."
   ]
  }
 ],
 "metadata": {
  "kernelspec": {
   "display_name": "Python 3",
   "language": "python",
   "name": "python3"
  },
  "language_info": {
   "codemirror_mode": {
    "name": "ipython",
    "version": 3
   },
   "file_extension": ".py",
   "mimetype": "text/x-python",
   "name": "python",
   "nbconvert_exporter": "python",
   "pygments_lexer": "ipython3",
   "version": "3.7.3"
  }
 },
 "nbformat": 4,
 "nbformat_minor": 2
}
